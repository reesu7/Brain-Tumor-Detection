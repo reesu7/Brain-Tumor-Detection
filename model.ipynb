{
 "cells": [
  {
   "cell_type": "code",
   "execution_count": 1,
   "id": "8e1ca052",
   "metadata": {},
   "outputs": [],
   "source": [
    "import cv2\n",
    "import os\n",
    "from PIL import Image\n",
    "import numpy as np\n",
    "path = './dataset/'\n",
    "no_tumor = os.listdir(path+'no/')\n",
    "tumor = os.listdir(path+'yes/')\n",
    "dataset = []\n",
    "label = []\n",
    "for i,image_name in enumerate(no_tumor):\n",
    "    if(image_name.split('.')[1]=='jpg'):\n",
    "        image = cv2.imread(path+'no/'+image_name) # READ IMAGE IN BGR FORMAT\n",
    "        image = Image.fromarray(image,'RGB') #cONVERT FROM BGR TO RGB FORMAT BECAUSE MANY LIBRARIES EXPECT IN RGB FORMAT\n",
    "        image = image.resize((64,64))\n",
    "        dataset.append(np.array(image))\n",
    "        label.append(0)\n",
    "for i,image_name in enumerate(tumor):\n",
    "    if(image_name.split('.')[1]=='jpg'):\n",
    "        image = cv2.imread(path+'yes/'+image_name)\n",
    "        image = Image.fromarray(image,'RGB')\n",
    "        image = image.resize((64,64))\n",
    "        dataset.append(np.array(image))\n",
    "        label.append(1)\n"
   ]
  },
  {
   "cell_type": "code",
   "execution_count": 2,
   "id": "39622e5b",
   "metadata": {},
   "outputs": [
    {
     "name": "stdout",
     "output_type": "stream",
     "text": [
      "3000\n",
      "3000\n"
     ]
    }
   ],
   "source": [
    "print(len(dataset))\n",
    "print(len(label))"
   ]
  },
  {
   "cell_type": "code",
   "execution_count": 3,
   "id": "ea8389d7",
   "metadata": {},
   "outputs": [],
   "source": [
    "dataset = np.array(dataset)\n",
    "label = np.array(label)"
   ]
  },
  {
   "cell_type": "code",
   "execution_count": 4,
   "id": "3dff4346",
   "metadata": {},
   "outputs": [],
   "source": [
    "from sklearn.model_selection import train_test_split"
   ]
  },
  {
   "cell_type": "code",
   "execution_count": 5,
   "id": "71b28d9d",
   "metadata": {},
   "outputs": [],
   "source": [
    "x_train,x_test,y_train,y_test = train_test_split(dataset,label,test_size=0.2,random_state=0)"
   ]
  },
  {
   "cell_type": "code",
   "execution_count": 6,
   "id": "a87ce2c4",
   "metadata": {},
   "outputs": [
    {
     "name": "stdout",
     "output_type": "stream",
     "text": [
      "(2400, 64, 64, 3)\n"
     ]
    }
   ],
   "source": [
    "print(x_train.shape)"
   ]
  },
  {
   "cell_type": "code",
   "execution_count": 7,
   "id": "1eb1d3d6",
   "metadata": {},
   "outputs": [],
   "source": [
    "import tensorflow as tf\n",
    "from tensorflow import keras\n",
    "from keras.utils import normalize\n",
    "\n",
    "from keras.models import Sequential\n",
    "from keras.layers import Conv2D,MaxPooling2D,Activation,Dropout,Flatten,Dense\n",
    "from keras.utils import to_categorical"
   ]
  },
  {
   "cell_type": "code",
   "execution_count": 8,
   "id": "98220301",
   "metadata": {},
   "outputs": [],
   "source": [
    "#NORMALISE DATA\n",
    "x_train = normalize(x_train,axis=1)\n",
    "x_test = normalize(x_test,axis=1)\n",
    "\n"
   ]
  },
  {
   "cell_type": "code",
   "execution_count": 9,
   "id": "f2551246",
   "metadata": {},
   "outputs": [],
   "source": [
    "y_train = to_categorical(y_train,num_classes=2)\n",
    "y_test = to_categorical(y_test,num_classes=2)"
   ]
  },
  {
   "cell_type": "code",
   "execution_count": 10,
   "id": "0ac2744e",
   "metadata": {},
   "outputs": [],
   "source": [
    "INPUT_SIZE = 64"
   ]
  },
  {
   "cell_type": "code",
   "execution_count": 11,
   "id": "ee1f913d",
   "metadata": {},
   "outputs": [],
   "source": [
    "#BUILD MODEL\n",
    "model = Sequential()\n",
    "model.add(Conv2D(32,(3,3),input_shape=(INPUT_SIZE,INPUT_SIZE,3)))\n",
    "model.add(Activation('relu'))\n",
    "model.add(MaxPooling2D(pool_size=(2,2)))\n",
    "\n",
    "model.add(Conv2D(32,(3,3),kernel_initializer='he_uniform'))\n",
    "model.add(Activation('relu'))\n",
    "model.add(MaxPooling2D(pool_size=(2,2)))\n",
    "\n",
    "\n",
    "model.add(Conv2D(32,(3,3),kernel_initializer='he_uniform'))\n",
    "model.add(Activation('relu'))\n",
    "model.add(MaxPooling2D(pool_size=(2,2)))\n",
    "\n",
    "\n",
    "model.add(Flatten())\n",
    "model.add(Dense(64))\n",
    "model.add(Activation('relu'))\n",
    "model.add(Dropout(0.5))\n",
    "model.add(Dense(2))\n",
    "model.add(Activation('sigmoid'))\n",
    "\n",
    "\n"
   ]
  },
  {
   "cell_type": "code",
   "execution_count": 12,
   "id": "9d2b7063",
   "metadata": {},
   "outputs": [],
   "source": [
    "model.compile(loss='categorical_crossentropy',optimizer='adam',metrics=['accuracy'])"
   ]
  },
  {
   "cell_type": "code",
   "execution_count": 13,
   "id": "ffce75cf",
   "metadata": {},
   "outputs": [
    {
     "name": "stdout",
     "output_type": "stream",
     "text": [
      "Epoch 1/10\n",
      "150/150 [==============================] - 10s 58ms/step - loss: 0.5562 - accuracy: 0.7254 - val_loss: 0.4528 - val_accuracy: 0.7883\n",
      "Epoch 2/10\n",
      "150/150 [==============================] - 9s 62ms/step - loss: 0.4152 - accuracy: 0.8283 - val_loss: 0.4076 - val_accuracy: 0.8083\n",
      "Epoch 3/10\n",
      "150/150 [==============================] - 10s 66ms/step - loss: 0.3281 - accuracy: 0.8621 - val_loss: 0.3173 - val_accuracy: 0.8517\n",
      "Epoch 4/10\n",
      "150/150 [==============================] - 10s 64ms/step - loss: 0.2405 - accuracy: 0.9029 - val_loss: 0.2045 - val_accuracy: 0.9200\n",
      "Epoch 5/10\n",
      "150/150 [==============================] - 11s 71ms/step - loss: 0.1785 - accuracy: 0.9337 - val_loss: 0.1561 - val_accuracy: 0.9533\n",
      "Epoch 6/10\n",
      "150/150 [==============================] - 11s 74ms/step - loss: 0.1308 - accuracy: 0.9571 - val_loss: 0.1161 - val_accuracy: 0.9617\n",
      "Epoch 7/10\n",
      "150/150 [==============================] - 9s 63ms/step - loss: 0.0886 - accuracy: 0.9708 - val_loss: 0.1262 - val_accuracy: 0.9500\n",
      "Epoch 8/10\n",
      "150/150 [==============================] - 11s 71ms/step - loss: 0.0627 - accuracy: 0.9796 - val_loss: 0.0841 - val_accuracy: 0.9717\n",
      "Epoch 9/10\n",
      "150/150 [==============================] - 11s 70ms/step - loss: 0.0492 - accuracy: 0.9850 - val_loss: 0.0837 - val_accuracy: 0.9767\n",
      "Epoch 10/10\n",
      "150/150 [==============================] - 12s 80ms/step - loss: 0.0387 - accuracy: 0.9887 - val_loss: 0.0954 - val_accuracy: 0.9667\n"
     ]
    },
    {
     "data": {
      "text/plain": [
       "<keras.src.callbacks.History at 0x222853d8a10>"
      ]
     },
     "execution_count": 13,
     "metadata": {},
     "output_type": "execute_result"
    }
   ],
   "source": [
    "model.fit(x_train,y_train,batch_size=16,verbose=1,epochs=10,validation_data=(x_test,y_test),shuffle=False)"
   ]
  },
  {
   "cell_type": "code",
   "execution_count": 14,
   "id": "7939a806",
   "metadata": {},
   "outputs": [
    {
     "name": "stderr",
     "output_type": "stream",
     "text": [
      "C:\\Users\\PRADEEP_HILTRACK\\AppData\\Roaming\\Python\\Python311\\site-packages\\keras\\src\\engine\\training.py:3000: UserWarning: You are saving your model as an HDF5 file via `model.save()`. This file format is considered legacy. We recommend using instead the native Keras format, e.g. `model.save('my_model.keras')`.\n",
      "  saving_api.save_model(\n"
     ]
    }
   ],
   "source": [
    "model.save('BrainTumor.h5')"
   ]
  },
  {
   "cell_type": "markdown",
   "id": "0b0afdf0",
   "metadata": {},
   "source": [
    "# MODEL EVALUATION "
   ]
  },
  {
   "cell_type": "code",
   "execution_count": 15,
   "id": "eba8411e",
   "metadata": {},
   "outputs": [],
   "source": [
    "from sklearn.metrics import confusion_matrix, classification_report"
   ]
  },
  {
   "cell_type": "code",
   "execution_count": 16,
   "id": "0b1b2ef9",
   "metadata": {},
   "outputs": [
    {
     "name": "stdout",
     "output_type": "stream",
     "text": [
      "19/19 [==============================] - 1s 28ms/step\n"
     ]
    }
   ],
   "source": [
    "y_pred = model.predict(x_test)\n",
    "y_pred_classes = np.argmax(y_pred, axis=1)\n",
    "y_true = np.argmax(y_test, axis=1)"
   ]
  },
  {
   "cell_type": "code",
   "execution_count": 17,
   "id": "ac869507",
   "metadata": {},
   "outputs": [
    {
     "name": "stdout",
     "output_type": "stream",
     "text": [
      "Confusion Matrix:\n",
      "[[328  15]\n",
      " [  5 252]]\n",
      "Classification Report:\n",
      "              precision    recall  f1-score   support\n",
      "\n",
      "           0       0.98      0.96      0.97       343\n",
      "           1       0.94      0.98      0.96       257\n",
      "\n",
      "    accuracy                           0.97       600\n",
      "   macro avg       0.96      0.97      0.97       600\n",
      "weighted avg       0.97      0.97      0.97       600\n",
      "\n"
     ]
    }
   ],
   "source": [
    "conf_matrix = confusion_matrix(y_true, y_pred_classes)\n",
    "print(\"Confusion Matrix:\")\n",
    "print(conf_matrix)\n",
    "\n",
    "classification_rep = classification_report(y_true, y_pred_classes)\n",
    "print(\"Classification Report:\")\n",
    "print(classification_rep)"
   ]
  },
  {
   "cell_type": "code",
   "execution_count": null,
   "id": "0b34f548",
   "metadata": {},
   "outputs": [],
   "source": []
  },
  {
   "cell_type": "code",
   "execution_count": null,
   "id": "a45053e2",
   "metadata": {},
   "outputs": [],
   "source": []
  }
 ],
 "metadata": {
  "kernelspec": {
   "display_name": "Python 3 (ipykernel)",
   "language": "python",
   "name": "python3"
  },
  "language_info": {
   "codemirror_mode": {
    "name": "ipython",
    "version": 3
   },
   "file_extension": ".py",
   "mimetype": "text/x-python",
   "name": "python",
   "nbconvert_exporter": "python",
   "pygments_lexer": "ipython3",
   "version": "3.11.4"
  }
 },
 "nbformat": 4,
 "nbformat_minor": 5
}
