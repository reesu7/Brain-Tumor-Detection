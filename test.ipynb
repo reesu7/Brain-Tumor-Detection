{
 "cells": [
  {
   "cell_type": "code",
   "execution_count": 3,
   "id": "e23c1173",
   "metadata": {},
   "outputs": [
    {
     "name": "stdout",
     "output_type": "stream",
     "text": [
      "1/1 [==============================] - 0s 86ms/step\n",
      "BRAIN TUMOR DETECTED\n"
     ]
    }
   ],
   "source": [
    "import cv2\n",
    "from keras.models import load_model\n",
    "from PIL import Image\n",
    "import numpy as np\n",
    "model=load_model('BrainTumor.h5')\n",
    "image=cv2.imread('pred/pred7.jpg')\n",
    "img=Image.fromarray(image)\n",
    "img=img.resize((64,64))\n",
    "img=np.array(img)\n",
    "input_img=np.expand_dims(img, axis=0)\n",
    "result = model.predict(input_img)\n",
    "result_final=np.argmax(result,axis=1)\n",
    "if result_final==0:\n",
    "    print(\"BRAIN TUMOR NOT DETECTED\")\n",
    "else :\n",
    "    print(\"BRAIN TUMOR DETECTED\")\n"
   ]
  },
  {
   "cell_type": "code",
   "execution_count": null,
   "id": "b8eadcc8",
   "metadata": {},
   "outputs": [],
   "source": []
  },
  {
   "cell_type": "code",
   "execution_count": null,
   "id": "5a9252e6",
   "metadata": {},
   "outputs": [],
   "source": []
  }
 ],
 "metadata": {
  "kernelspec": {
   "display_name": "Python 3 (ipykernel)",
   "language": "python",
   "name": "python3"
  },
  "language_info": {
   "codemirror_mode": {
    "name": "ipython",
    "version": 3
   },
   "file_extension": ".py",
   "mimetype": "text/x-python",
   "name": "python",
   "nbconvert_exporter": "python",
   "pygments_lexer": "ipython3",
   "version": "3.11.4"
  }
 },
 "nbformat": 4,
 "nbformat_minor": 5
}
